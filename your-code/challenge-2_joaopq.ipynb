{
 "cells": [
  {
   "cell_type": "markdown",
   "metadata": {},
   "source": [
    "## Challenge 2: Sets\n",
    "\n",
    "There are a lot to learn about Python Sets and the information presented in the lesson is limited due to its length. To learn Python Sets in depth you are strongly encouraged to review the W3Schools tutorial on [Python Sets Examples and Methods](https://www.w3schools.com/python/python_sets.asp) before you work on this lab. Some difficult questions in this lab have their solutions in the W3Schools tutorial.\n",
    "\n",
    "#### First, import the Python `random` libary"
   ]
  },
  {
   "cell_type": "code",
   "execution_count": 1,
   "metadata": {},
   "outputs": [],
   "source": [
    "import random\n",
    "\n"
   ]
  },
  {
   "cell_type": "markdown",
   "metadata": {},
   "source": [
    "#### 1 - In the cell below, create a list named `sample_list_1` with 80 random values. \n",
    "\n",
    "Requirements:\n",
    "\n",
    "* Each value is an integer falling between 0 and 100.\n",
    "* Each value in the list is unique.\n",
    "\n",
    "Print `sample_list_1` to review its values\n",
    "\n",
    "*Hint: use `random.sample` ([reference](https://docs.python.org/3/library/random.html#random.sample)).*"
   ]
  },
  {
   "cell_type": "code",
   "execution_count": 2,
   "metadata": {},
   "outputs": [],
   "source": [
    "# Your code here\n",
    "sample_list_1=random.sample(range(1,101),80)\n",
    "print(sample_list_1)"
   ]
  },
  {
   "cell_type": "markdown",
   "metadata": {},
   "source": [
    "#### 2 - Convert `sample_list_1` to a set called `set1`. Print the length of the set. Is its length still 80?"
   ]
  },
  {
   "cell_type": "code",
   "execution_count": 3,
   "metadata": {},
   "outputs": [
    {
     "name": "stdout",
     "output_type": "stream",
     "text": [
      "Is lenght of set = to sample_list_1?  True\n"
     ]
    }
   ],
   "source": [
    "# Your code here\n",
    "set1=set(sample_list_1)\n",
    "\n",
    "print(\"Is lenght of set = to sample_list_1?  \"+str(len(sample_list_1)==len(set1)))"
   ]
  },
  {
   "cell_type": "markdown",
   "metadata": {},
   "source": [
    "#### 3 - Create another list named `sample_list_2` with 80 random values.\n",
    "\n",
    "Requirements:\n",
    "\n",
    "* Each value is an integer falling between 0 and 100.\n",
    "* The values in the list don't have to be unique.\n",
    "\n",
    "*Hint: Use a FOR loop.*"
   ]
  },
  {
   "cell_type": "code",
   "execution_count": 4,
   "metadata": {},
   "outputs": [
    {
     "name": "stdout",
     "output_type": "stream",
     "text": [
      "[0.26842888730844794, 0.6675252173708414, 0.15868963143807724, 0.18690361612902107, 0.3193606446272895, 0.6409034921992371, 0.25961955150561367, 0.6868333104945417, 0.6522256200259166, 0.9796372548367027, 0.5830273930136292, 0.09579589404216271, 0.4526097098231643, 0.45179623325123186, 0.036951306968601605, 0.46129158350656463, 0.6121325011152143, 0.6700467847850291, 0.5159776514945844, 0.30138743720386796, 0.9661176291771492, 0.23543662597527915, 0.1136749126090717, 0.8127261870350969, 0.3015549713516341, 0.4186214252407976, 0.12177229338242368, 0.6281800124477596, 0.47034083653646075, 0.1631331487484311, 0.9642446205180067, 0.4670824831588978, 0.1491292564716562, 0.005384565867571189, 0.4757331587522008, 0.8256419349000027, 0.8049699504925935, 0.213217809896325, 0.397949596634262, 0.14909017506582845, 0.6026756966647482, 0.6473010257095971, 0.5876456463946694, 0.9663670442614771, 0.21393314670172525, 0.500947788311165, 0.4919924507182504, 0.07794246937358129, 0.46918110047852246, 0.4534893558869546, 0.08549565722837948, 0.018524080331680404, 0.12175667601465756, 0.6096755942716358, 0.37962414092844765, 0.955755561762922, 0.11748795877674856, 0.036597530247744814, 0.4317185224999348, 0.5233945634274021, 0.6658257281837513, 0.2988418485409723, 0.49496043816375135, 0.5939223884175309, 0.3972185713827874, 0.2980428301184995, 0.18618080148886806, 0.9826352950991176, 0.49895638135810805, 0.3005915368881963, 0.5125131862862279, 0.3054700178464529, 0.8157382210622662, 0.6009128126533431, 0.015304213808330913, 0.8376290846862386, 0.32936354136187995, 0.8116253637656542, 0.02954421094227455, 0.9145407230888297]\n"
     ]
    }
   ],
   "source": [
    "# Your code here\n",
    "sample_list_2=[random.random() for i in range(1,81)] \n",
    "\n",
    "print(sample_list_2)\n"
   ]
  },
  {
   "cell_type": "markdown",
   "metadata": {},
   "source": [
    "#### 4 - Convert `sample_list_2` to a set called `set2`. Print the length of the set. Is its length still 80?"
   ]
  },
  {
   "cell_type": "code",
   "execution_count": 5,
   "metadata": {},
   "outputs": [
    {
     "name": "stdout",
     "output_type": "stream",
     "text": [
      "80\n",
      "Is lenght of set2 = to sample_list_2?  True\n"
     ]
    }
   ],
   "source": [
    "# Your code here\n",
    "set2=set(sample_list_2)\n",
    "print(len(set2))\n",
    "print(\"Is lenght of set2 = to sample_list_2?  \"+str(len(sample_list_2)==len(set2)))"
   ]
  },
  {
   "cell_type": "markdown",
   "metadata": {},
   "source": [
    "#### 5 - Identify the elements present in `set1` but not in `set2`. Assign the elements to a new set named `set3`."
   ]
  },
  {
   "cell_type": "code",
   "execution_count": 6,
   "metadata": {},
   "outputs": [
    {
     "name": "stdout",
     "output_type": "stream",
     "text": [
      "{1, 2, 3, 4, 5, 6, 7, 9, 10, 12, 13, 14, 15, 17, 18, 19, 20, 21, 22, 24, 25, 26, 27, 28, 29, 30, 31, 32, 33, 34, 35, 36, 38, 39, 40, 41, 44, 45, 46, 47, 48, 49, 50, 51, 52, 53, 54, 56, 58, 60, 61, 62, 64, 65, 66, 67, 70, 71, 72, 73, 74, 75, 76, 77, 78, 79, 81, 82, 83, 84, 85, 88, 89, 90, 92, 93, 95, 96, 97, 99}\n"
     ]
    }
   ],
   "source": [
    "# Your code here\n",
    "set3 = set([x for x in set1 if x not in set2])\n",
    "\n",
    "print(set3)"
   ]
  },
  {
   "cell_type": "markdown",
   "metadata": {},
   "source": [
    "#### 6 - Identify the elements present in `set2` but not in `set1`. Assign the elements to a new set named `set4`."
   ]
  },
  {
   "cell_type": "code",
   "execution_count": 7,
   "metadata": {},
   "outputs": [
    {
     "name": "stdout",
     "output_type": "stream",
     "text": [
      "{0.26842888730844794, 0.15868963143807724, 0.25961955150561367, 0.6409034921992371, 0.6868333104945417, 0.9796372548367027, 0.6700467847850291, 0.6121325011152143, 0.46918110047852246, 0.018524080331680404, 0.49496043816375135, 0.3972185713827874, 0.4670824831588978, 0.213217809896325, 0.6675252173708414, 0.8116253637656542, 0.8256419349000027, 0.9661176291771492, 0.9642446205180067, 0.1136749126090717, 0.3005915368881963, 0.8157382210622662, 0.6026756966647482, 0.21393314670172525, 0.1631331487484311, 0.12175667601465756, 0.47034083653646075, 0.9663670442614771, 0.397949596634262, 0.12177229338242368, 0.1491292564716562, 0.46129158350656463, 0.4534893558869546, 0.3054700178464529, 0.5233945634274021, 0.5876456463946694, 0.4317185224999348, 0.6522256200259166, 0.30138743720386796, 0.4757331587522008, 0.6096755942716358, 0.6009128126533431, 0.005384565867571189, 0.37962414092844765, 0.18690361612902107, 0.45179623325123186, 0.4919924507182504, 0.5125131862862279, 0.5159776514945844, 0.23543662597527915, 0.4186214252407976, 0.8376290846862386, 0.8127261870350969, 0.09579589404216271, 0.08549565722837948, 0.32936354136187995, 0.3193606446272895, 0.955755561762922, 0.18618080148886806, 0.036951306968601605, 0.02954421094227455, 0.036597530247744814, 0.2988418485409723, 0.6473010257095971, 0.8049699504925935, 0.2980428301184995, 0.49895638135810805, 0.14909017506582845, 0.5939223884175309, 0.6281800124477596, 0.9826352950991176, 0.5830273930136292, 0.3015549713516341, 0.500947788311165, 0.07794246937358129, 0.11748795877674856, 0.015304213808330913, 0.9145407230888297, 0.4526097098231643, 0.6658257281837513}\n"
     ]
    }
   ],
   "source": [
    "# Your code here\n",
    "set4 = set([x for x in set2 if x not in set1])\n",
    "#...Or we could use the method: set2.difference(set1)  !!!\n",
    "\n",
    "print(set4)"
   ]
  },
  {
   "cell_type": "markdown",
   "metadata": {},
   "source": [
    "#### 7 - Now Identify the elements shared between `set1` and `set2`. Assign the elements to a new set named `set5`."
   ]
  },
  {
   "cell_type": "code",
   "execution_count": 8,
   "metadata": {},
   "outputs": [],
   "source": [
    "# Your code here\n",
    "set5=set1.intersection(set2)"
   ]
  },
  {
   "cell_type": "markdown",
   "metadata": {},
   "source": [
    "#### 8 - Create an empty set called `set6`."
   ]
  },
  {
   "cell_type": "code",
   "execution_count": 9,
   "metadata": {},
   "outputs": [],
   "source": [
    "# Your code here\n",
    "set6=set()"
   ]
  },
  {
   "cell_type": "markdown",
   "metadata": {},
   "source": [
    "#### 9 - Add `set3` and `set5` to `set6` using the Python Set `update` method."
   ]
  },
  {
   "cell_type": "code",
   "execution_count": 10,
   "metadata": {},
   "outputs": [
    {
     "name": "stdout",
     "output_type": "stream",
     "text": [
      "{1, 2, 3, 4, 5, 6, 7, 9, 10, 12, 13, 14, 15, 17, 18, 19, 20, 21, 22, 24, 25, 26, 27, 28, 29, 30, 31, 32, 33, 34, 35, 36, 38, 39, 40, 41, 44, 45, 46, 47, 48, 49, 50, 51, 52, 53, 54, 56, 58, 60, 61, 62, 64, 65, 66, 67, 70, 71, 72, 73, 74, 75, 76, 77, 78, 79, 81, 82, 83, 84, 85, 88, 89, 90, 92, 93, 95, 96, 97, 99}\n"
     ]
    }
   ],
   "source": [
    "# Your code here\n",
    "set6.update(set3,set5)\n",
    "print(set6)"
   ]
  },
  {
   "cell_type": "markdown",
   "metadata": {},
   "source": [
    "#### 10 - Check if `set1` and `set6` are equal."
   ]
  },
  {
   "cell_type": "code",
   "execution_count": 11,
   "metadata": {},
   "outputs": [
    {
     "name": "stdout",
     "output_type": "stream",
     "text": [
      "True\n"
     ]
    }
   ],
   "source": [
    "# Your code here\n",
    "print(set1==set6)"
   ]
  },
  {
   "cell_type": "markdown",
   "metadata": {},
   "source": [
    "#### 11 - Check if `set1` contains `set2` using the Python Set `issubset` method. Then check if `set1` contains `set3`.*"
   ]
  },
  {
   "cell_type": "code",
   "execution_count": 12,
   "metadata": {},
   "outputs": [
    {
     "name": "stdout",
     "output_type": "stream",
     "text": [
      "Set1 contains set2?: False\n",
      "Set1 contains set3?: True\n"
     ]
    }
   ],
   "source": [
    "# Your code here\n",
    "print(\"Set1 contains set2?: \"+str(set1.issubset(set2)))\n",
    "\n",
    "print(\"Set1 contains set3?: \"+str(set1.issubset(set3)))"
   ]
  },
  {
   "cell_type": "markdown",
   "metadata": {},
   "source": [
    "#### 12 -Using the Python Set `union` method, aggregate `set3`, `set4`, and `set5`. Then aggregate `set1` and `set2`. \n",
    "\n",
    "#### Check if the aggregated values are equal."
   ]
  },
  {
   "cell_type": "code",
   "execution_count": 13,
   "metadata": {},
   "outputs": [
    {
     "name": "stdout",
     "output_type": "stream",
     "text": [
      "{1, 2, 3, 4, 5, 6, 7, 9, 10, 12, 13, 14, 15, 17, 18, 19, 20, 21, 22, 24, 25, 26, 27, 28, 29, 30, 31, 32, 33, 34, 35, 36, 38, 39, 40, 41, 44, 45, 46, 47, 48, 49, 50, 51, 52, 53, 54, 56, 58, 60, 61, 62, 64, 65, 66, 67, 70, 71, 72, 73, 74, 75, 76, 77, 78, 79, 81, 82, 83, 84, 85, 88, 89, 90, 92, 93, 95, 96, 97, 99}\n",
      "{1, 2, 3, 4, 5, 6, 7, 9, 10, 12, 13, 14, 15, 17, 18, 19, 20, 21, 22, 24, 25, 26, 27, 28, 29, 30, 31, 32, 33, 34, 35, 36, 38, 39, 40, 41, 44, 45, 46, 47, 48, 49, 50, 51, 52, 53, 54, 56, 58, 60, 61, 62, 64, 65, 66, 67, 70, 71, 72, 73, 74, 75, 76, 77, 78, 79, 81, 82, 83, 84, 85, 88, 89, 90, 92, 93, 95, 96, 97, 99}\n",
      "80\n"
     ]
    }
   ],
   "source": [
    "# Your code here\n",
    "## we can use this | operator too! See example below.\n",
    "## e.g. newset=set3 | set4 | set5\n",
    "set3.union(set4,set5)\n",
    "print(set3)\n",
    "\n",
    "set3.union(set1,set2)\n",
    "print(set3)\n",
    "\n",
    "newset=set3\n",
    "print(len(newset))"
   ]
  },
  {
   "cell_type": "markdown",
   "metadata": {},
   "source": [
    "#### 13 -Using the `pop` method, remove the first element from `set1`."
   ]
  },
  {
   "cell_type": "code",
   "execution_count": 14,
   "metadata": {},
   "outputs": [
    {
     "name": "stdout",
     "output_type": "stream",
     "text": [
      "{1, 2, 3, 4, 5, 6, 7, 9, 10, 12, 13, 14, 15, 17, 18, 19, 20, 21, 22, 24, 25, 26, 27, 28, 29, 30, 31, 32, 33, 34, 35, 36, 38, 39, 40, 41, 44, 45, 46, 47, 48, 49, 50, 51, 52, 53, 54, 56, 58, 60, 61, 62, 64, 65, 66, 67, 70, 71, 72, 73, 74, 75, 76, 77, 78, 79, 81, 82, 83, 84, 85, 88, 89, 90, 92, 93, 95, 96, 97, 99}\n",
      "99\n"
     ]
    }
   ],
   "source": [
    "# Your code here\n",
    "print(set1)\n",
    "print(list(set1).pop())  #can't do this..."
   ]
  },
  {
   "cell_type": "markdown",
   "metadata": {},
   "source": [
    "#### 14 -Remove every element in the following list from `set1` if they are present in the set. Print the remaining elements.\n",
    "\n",
    "```\n",
    "list_to_remove = [1, 9, 11, 19, 21, 29, 31, 39, 41, 49, 51, 59, 61, 69, 71, 79, 81, 89, 91, 99]\n",
    "```"
   ]
  },
  {
   "cell_type": "code",
   "execution_count": 15,
   "metadata": {},
   "outputs": [
    {
     "name": "stdout",
     "output_type": "stream",
     "text": [
      "[2, 3, 4, 5, 6, 7, 10, 12, 13, 14, 15, 17, 18, 20, 22, 24, 25, 26, 27, 28, 30, 32, 33, 34, 35, 36, 38, 40, 44, 45, 46, 47, 48, 50, 52, 53, 54, 56, 58, 60, 62, 64, 65, 66, 67, 70, 72, 73, 74, 75, 76, 77, 78, 82, 83, 84, 85, 88, 90, 92, 93, 95, 96, 97]\n"
     ]
    }
   ],
   "source": [
    "# Your code here\n",
    "list_to_remove = [1, 9, 11, 19, 21, 29, 31, 39, 41, 49, 51, 59, 61, 69, 71, 79, 81, 89, 91, 99]\n",
    "\n",
    "remaining_elem=[x for x in set1 if x not in list_to_remove]\n",
    "\n",
    "print(remaining_elem)"
   ]
  },
  {
   "cell_type": "markdown",
   "metadata": {},
   "source": [
    "#### 15 -The objective of this lab is to provide you a overview of manipulating sets in Python and how they can be integrated within a real usecase\n",
    "#### For the exercises below it's strongly advised to quickly check this link: https://docs.python.org/2/library/sets.html#sets.Set\n",
    "#### Imagine you need to create the grocery list for your family! Below you will see a list of items each family member wants. There will be repetitions because this family has the habbit of each time they notice something is missing to write it down. The problem is that they don't really talk to each other and therefore some items in the list are repeated. With the collection of questions below you will see how they solve repetion and create a grocery list with unique elements.\n",
    "\n"
   ]
  },
  {
   "cell_type": "markdown",
   "metadata": {},
   "source": [
    "#### 15.1- As you can see there are items repeated in each list. Creat a sequence of iterable elements with dintinct items that each family member wants. You can do it in two different ways. Assign each one (set) to a variable with the name of the family member (ex: father_set)."
   ]
  },
  {
   "cell_type": "code",
   "execution_count": 16,
   "metadata": {},
   "outputs": [],
   "source": [
    "# Your code here   I'm sorry, but I didn't get where the items were so I did them myself\n",
    "mother_list=(\"milk\",\"shampoo\",\"meat\",\"yogurt\",\"milk\",\"yogurt\")\n",
    "father_list=(\"meat\",\"donuts\",\"salmon\",\"toilet paper\",\"tuna\",\"salmon\",\"tomatoes\",\"apples\",\"oranges\")\n",
    "Mattia_list=(\"oranges\",\"apples\",\"bananas\",\"corn flakes\",\"toilet paper\",\"salmon\",\"oranges\",\"bananas\")\n",
    "Carlos_list=(\"oranges\",\"veggie burger\",\"kiwi\",\"cheetos\",\"toilet paper\",\"salmon\",\"oranges\",\"bananas\",\"bollycao\",\"ruffles\")\n",
    "Jo_list=(\"oranges\",\"tangerine\",\"toilet paper\",\"bananas\",\"kiwi\",\"tuna\",\"toilet paper\",\"oranges\",\"bananas\", \"ruffles\")\n",
    "\n",
    "mother_set=set(mother_list)\n",
    "father_set=set(father_list)\n",
    "Mattia_set=set(Mattia_list)\n",
    "Carlos_set=set(Carlos_list)\n",
    "Jo_set=set(Jo_list)"
   ]
  },
  {
   "cell_type": "markdown",
   "metadata": {},
   "source": [
    "#### 15.2- Q: Mattia wants the same items that his brother Carlos and his sister Jo but doesn't want anything they both want.\n",
    "\n",
    "##### Hint: check out the documentation for `x.symmetric_difference(y)`."
   ]
  },
  {
   "cell_type": "code",
   "execution_count": 17,
   "metadata": {},
   "outputs": [
    {
     "name": "stdout",
     "output_type": "stream",
     "text": [
      "{'tuna', 'salmon', 'cheetos', 'bollycao', 'veggie burger', 'tangerine'}\n",
      "{'salmon'}\n"
     ]
    }
   ],
   "source": [
    "# Your code here\n",
    "\n",
    "both_dont_want=Carlos_set.symmetric_difference(Jo_set)\n",
    "\n",
    "print(both_dont_want)\n",
    "\n",
    "new_Mattia_set=Mattia_set.intersection(both_dont_want)\n",
    "\n",
    "print(new_Mattia_set)"
   ]
  },
  {
   "cell_type": "markdown",
   "metadata": {},
   "source": [
    "#### 15.3- The line of code below  will  generate a list of random elements from a collection of items, with replacement. Run it and from it create a sequence of unique elements and assign it to the variable mother.\n"
   ]
  },
  {
   "cell_type": "code",
   "execution_count": 18,
   "metadata": {},
   "outputs": [
    {
     "name": "stdout",
     "output_type": "stream",
     "text": [
      "['milk', 'deodorant', 'cherries', 'mushrooms', 'tomatoes', 'blueberries', 'blueberries', 'onions', 'cherries', 'bread']\n"
     ]
    }
   ],
   "source": [
    "import random\n",
    "items = ['milk', 'water', 'chocolate', 'blueberries', 'shampoo', 'flour', 'bread', 'sugar', 'watermelon', 'vinegar', 'tomatoes', 'yogurt', 'juice', 'gums', 'onions', 'garlic', 'cucumber', 'mushrooms', 'toilet paper', 'oranges', 'deodorant', 'cherries']\n",
    "\n",
    "mother_list = random.choices(items,k = 10) # https://docs.python.org/3/library/random.html\n",
    "\n",
    "print(mother_list)"
   ]
  },
  {
   "cell_type": "code",
   "execution_count": 19,
   "metadata": {},
   "outputs": [
    {
     "name": "stdout",
     "output_type": "stream",
     "text": [
      "{'milk', 'bread', 'deodorant', 'onions', 'mushrooms', 'tomatoes', 'cherries', 'blueberries'}\n"
     ]
    }
   ],
   "source": [
    "mother=set(mother_list)\n",
    "print(mother)"
   ]
  },
  {
   "cell_type": "markdown",
   "metadata": {},
   "source": [
    "#### 15.4- Before leaving the house to the grocery store the father found a lot of toilet paper, so the mother decided to remove it from the items needed to be bought. Use the `.discard()` method to remove from each set created before the 'toilet paper'. \n",
    "\n",
    "#### Hint: Try to first create a list contaning the variables of each set created before, then loop through them and remove the unecessary item. \n",
    "\n",
    "##### Note: The`.discard()` method will remove and update the set without the need of reassignment.\n",
    "\n"
   ]
  },
  {
   "cell_type": "code",
   "execution_count": 20,
   "metadata": {},
   "outputs": [
    {
     "name": "stdout",
     "output_type": "stream",
     "text": [
      "{'tuna', 'salmon', 'corn flakes', 'ruffles', 'toilet paper', 'bananas', 'cheetos', 'tomatoes', 'donuts', 'bollycao', 'milk', 'meat', 'shampoo', 'yogurt', 'veggie burger', 'oranges', 'tangerine', 'apples', 'kiwi'}\n",
      "None\n"
     ]
    }
   ],
   "source": [
    "# Your code here\n",
    "\n",
    "#remove toilet papers from all sets:\n",
    "whole_set = mother_set|father_set|Mattia_set|Carlos_set|Jo_set\n",
    "print(whole_set)\n",
    "whole_set=whole_set.discard(\"toilet paper\")\n",
    "print(whole_set)"
   ]
  },
  {
   "cell_type": "markdown",
   "metadata": {},
   "source": [
    "#### 15.5- Create a set with all the groceries needed to be bought for the house (no repetitions)."
   ]
  },
  {
   "cell_type": "code",
   "execution_count": 21,
   "metadata": {},
   "outputs": [
    {
     "name": "stdout",
     "output_type": "stream",
     "text": [
      "{'tuna', 'salmon', 'corn flakes', 'ruffles', 'toilet paper', 'bananas', 'cheetos', 'tomatoes', 'donuts', 'bollycao', 'milk', 'meat', 'shampoo', 'yogurt', 'veggie burger', 'oranges', 'tangerine', 'apples', 'kiwi'}\n"
     ]
    }
   ],
   "source": [
    "# Your code whole_set = mother_set|father_set|Mattia_set|Carlos_set|Jo_set\n",
    "whole_set = mother_set|father_set|Mattia_set|Carlos_set|Jo_set\n",
    "print(whole_set)"
   ]
  },
  {
   "cell_type": "markdown",
   "metadata": {},
   "source": [
    "#### 15.6- The Father said that he could only buy five items this time. So he decided to arbitraly pick wich ones to buy this time.\n",
    "\n",
    "##### Hint: use the `.pop()` method."
   ]
  },
  {
   "cell_type": "code",
   "execution_count": 22,
   "metadata": {},
   "outputs": [],
   "source": [
    "# Your code here\n",
    "counter=0\n",
    "\n",
    "while counter<=5:\n",
    "    counter+=counter+1\n",
    "    whole_set.pop()"
   ]
  },
  {
   "cell_type": "code",
   "execution_count": 23,
   "metadata": {},
   "outputs": [
    {
     "name": "stdout",
     "output_type": "stream",
     "text": [
      "{'ruffles', 'toilet paper', 'bananas', 'cheetos', 'tomatoes', 'donuts', 'bollycao', 'milk', 'meat', 'shampoo', 'yogurt', 'veggie burger', 'oranges', 'tangerine', 'apples', 'kiwi'}\n"
     ]
    }
   ],
   "source": [
    "print(whole_set)"
   ]
  }
 ],
 "metadata": {
  "kernelspec": {
   "display_name": "Python 3",
   "language": "python",
   "name": "python3"
  },
  "language_info": {
   "codemirror_mode": {
    "name": "ipython",
    "version": 3
   },
   "file_extension": ".py",
   "mimetype": "text/x-python",
   "name": "python",
   "nbconvert_exporter": "python",
   "pygments_lexer": "ipython3",
   "version": "3.7.6"
  }
 },
 "nbformat": 4,
 "nbformat_minor": 2
}
